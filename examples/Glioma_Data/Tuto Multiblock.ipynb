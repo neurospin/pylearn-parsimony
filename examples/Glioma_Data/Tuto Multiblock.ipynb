{
 "cells": [
  {
   "cell_type": "markdown",
   "metadata": {},
   "source": [
    "# Introduction"
   ]
  },
  {
   "cell_type": "markdown",
   "metadata": {},
   "source": [
    "There is an urge for data integration methods that enable to deal with heterogenous data. Regularised Generalised Canonical Correlation Analysis (RGCCA) is a privileged framework as it enables to explore linear relations between multiple blocks of data. With structured sparsity-inducing regularization it further allows to select coherent sets of variables to seek patterns of relevant features.\n",
    "\n",
    "The multiblock module of the pylearn-parsimony library implements the method detailed in the paper [A general multiblock method for structured variable selection](https://arxiv.org/abs/1610.09490). In this tutorial we will briefly review the method and demonstrate how this module can be used with a practical example on the Glioma dataset."
   ]
  },
  {
   "cell_type": "markdown",
   "metadata": {},
   "source": [
    "# Glioma Data"
   ]
  },
  {
   "cell_type": "markdown",
   "metadata": {},
   "source": [
    "This dataset is described in \\cite{Cathy's Thesis}. It contains genetics information of tumors of 53 patients, with two different modalities: Gene expression (GE) and Comparative Genomic Hybridization (CGH) which respectively contain $p=4341$ and $q=1229$ features. For each patient, we further have the tumor location, a categorical variable with 3 different locations, encoded in a dummy matrix.\n",
    "\n",
    "We wish to predict the tummor location, and investigate the relevant genes and pathways involved in this task."
   ]
  },
  {
   "cell_type": "code",
   "execution_count": 1,
   "metadata": {},
   "outputs": [],
   "source": [
    "import pandas as pd"
   ]
  },
  {
   "cell_type": "code",
   "execution_count": 2,
   "metadata": {},
   "outputs": [],
   "source": [
    "data_dir = \"./\"    \n",
    "data = pd.read_csv(data_dir + 'Data_Subset.csv').drop('Unnamed: 0', axis=1)\n",
    "GE = data.loc[:,data.columns.str.startswith('GE')]\n",
    "y = data.loc[:,data.columns[-3:]]\n",
    "CGH = data.loc[:,data.columns.str.startswith('CGH')]"
   ]
  },
  {
   "cell_type": "code",
   "execution_count": 3,
   "metadata": {},
   "outputs": [
    {
     "data": {
      "text/html": [
       "<div>\n",
       "<style scoped>\n",
       "    .dataframe tbody tr th:only-of-type {\n",
       "        vertical-align: middle;\n",
       "    }\n",
       "\n",
       "    .dataframe tbody tr th {\n",
       "        vertical-align: top;\n",
       "    }\n",
       "\n",
       "    .dataframe thead th {\n",
       "        text-align: right;\n",
       "    }\n",
       "</style>\n",
       "<table border=\"1\" class=\"dataframe\">\n",
       "  <thead>\n",
       "    <tr style=\"text-align: right;\">\n",
       "      <th></th>\n",
       "      <th>GE.A_23_P109913</th>\n",
       "      <th>GE.A_24_P148717</th>\n",
       "      <th>GE.A_23_P250302</th>\n",
       "      <th>GE.A_23_P72989</th>\n",
       "      <th>GE.A_23_P412321</th>\n",
       "      <th>GE.A_24_P234921</th>\n",
       "      <th>GE.A_23_P343398</th>\n",
       "      <th>GE.A_23_P69012</th>\n",
       "      <th>GE.A_23_P407565</th>\n",
       "      <th>GE.A_23_P141367</th>\n",
       "      <th>...</th>\n",
       "      <th>GE.A_23_P1973</th>\n",
       "      <th>GE.A_23_P215419</th>\n",
       "      <th>GE.A_23_P259442</th>\n",
       "      <th>GE.A_32_P66804</th>\n",
       "      <th>GE.A_23_P304991</th>\n",
       "      <th>GE.A_23_P155351</th>\n",
       "      <th>GE.A_23_P61707</th>\n",
       "      <th>GE.A_23_P111826</th>\n",
       "      <th>GE.A_23_P361405</th>\n",
       "      <th>GE.A_23_P57927</th>\n",
       "    </tr>\n",
       "  </thead>\n",
       "  <tbody>\n",
       "    <tr>\n",
       "      <th>0</th>\n",
       "      <td>-0.130073</td>\n",
       "      <td>-0.607874</td>\n",
       "      <td>0.071867</td>\n",
       "      <td>0.201223</td>\n",
       "      <td>-0.153277</td>\n",
       "      <td>0.720067</td>\n",
       "      <td>0.506888</td>\n",
       "      <td>0.180251</td>\n",
       "      <td>-0.333733</td>\n",
       "      <td>-0.952690</td>\n",
       "      <td>...</td>\n",
       "      <td>-3.383960</td>\n",
       "      <td>0.624622</td>\n",
       "      <td>-2.611288</td>\n",
       "      <td>-2.402020</td>\n",
       "      <td>1.533508</td>\n",
       "      <td>-0.180868</td>\n",
       "      <td>-0.317604</td>\n",
       "      <td>-0.037374</td>\n",
       "      <td>-1.033387</td>\n",
       "      <td>-0.298882</td>\n",
       "    </tr>\n",
       "    <tr>\n",
       "      <th>1</th>\n",
       "      <td>0.167522</td>\n",
       "      <td>0.934534</td>\n",
       "      <td>-0.389287</td>\n",
       "      <td>0.244923</td>\n",
       "      <td>0.600389</td>\n",
       "      <td>0.295036</td>\n",
       "      <td>0.026775</td>\n",
       "      <td>0.172103</td>\n",
       "      <td>2.876757</td>\n",
       "      <td>0.136076</td>\n",
       "      <td>...</td>\n",
       "      <td>-2.871910</td>\n",
       "      <td>-2.161968</td>\n",
       "      <td>-2.294974</td>\n",
       "      <td>-2.906984</td>\n",
       "      <td>0.537812</td>\n",
       "      <td>0.103850</td>\n",
       "      <td>2.397188</td>\n",
       "      <td>0.026909</td>\n",
       "      <td>-1.393335</td>\n",
       "      <td>0.569185</td>\n",
       "    </tr>\n",
       "    <tr>\n",
       "      <th>2</th>\n",
       "      <td>0.305580</td>\n",
       "      <td>0.643973</td>\n",
       "      <td>0.980439</td>\n",
       "      <td>-0.034889</td>\n",
       "      <td>0.061745</td>\n",
       "      <td>0.843857</td>\n",
       "      <td>1.442718</td>\n",
       "      <td>-0.112258</td>\n",
       "      <td>2.528982</td>\n",
       "      <td>-1.191226</td>\n",
       "      <td>...</td>\n",
       "      <td>-3.146454</td>\n",
       "      <td>-0.892187</td>\n",
       "      <td>-1.258385</td>\n",
       "      <td>-2.646591</td>\n",
       "      <td>1.311011</td>\n",
       "      <td>0.092064</td>\n",
       "      <td>-0.633101</td>\n",
       "      <td>-0.050350</td>\n",
       "      <td>-0.375389</td>\n",
       "      <td>0.795004</td>\n",
       "    </tr>\n",
       "    <tr>\n",
       "      <th>3</th>\n",
       "      <td>1.631464</td>\n",
       "      <td>0.833338</td>\n",
       "      <td>0.362822</td>\n",
       "      <td>0.009881</td>\n",
       "      <td>1.265838</td>\n",
       "      <td>0.493629</td>\n",
       "      <td>1.040985</td>\n",
       "      <td>0.475731</td>\n",
       "      <td>3.357208</td>\n",
       "      <td>-0.755619</td>\n",
       "      <td>...</td>\n",
       "      <td>-2.210552</td>\n",
       "      <td>-0.144747</td>\n",
       "      <td>-1.723304</td>\n",
       "      <td>-2.344496</td>\n",
       "      <td>0.699006</td>\n",
       "      <td>-0.310269</td>\n",
       "      <td>-0.836779</td>\n",
       "      <td>-0.107827</td>\n",
       "      <td>-0.978695</td>\n",
       "      <td>1.460305</td>\n",
       "    </tr>\n",
       "    <tr>\n",
       "      <th>4</th>\n",
       "      <td>0.935878</td>\n",
       "      <td>3.031405</td>\n",
       "      <td>0.522437</td>\n",
       "      <td>-0.107501</td>\n",
       "      <td>2.631120</td>\n",
       "      <td>0.684364</td>\n",
       "      <td>2.891547</td>\n",
       "      <td>0.325103</td>\n",
       "      <td>4.461593</td>\n",
       "      <td>-1.383289</td>\n",
       "      <td>...</td>\n",
       "      <td>-2.686294</td>\n",
       "      <td>-0.246895</td>\n",
       "      <td>-2.940980</td>\n",
       "      <td>-3.539916</td>\n",
       "      <td>0.035941</td>\n",
       "      <td>-0.432156</td>\n",
       "      <td>0.460132</td>\n",
       "      <td>-0.091937</td>\n",
       "      <td>-1.055290</td>\n",
       "      <td>0.350653</td>\n",
       "    </tr>\n",
       "  </tbody>\n",
       "</table>\n",
       "<p>5 rows × 4341 columns</p>\n",
       "</div>"
      ],
      "text/plain": [
       "   GE.A_23_P109913  GE.A_24_P148717  GE.A_23_P250302  GE.A_23_P72989  \\\n",
       "0        -0.130073        -0.607874         0.071867        0.201223   \n",
       "1         0.167522         0.934534        -0.389287        0.244923   \n",
       "2         0.305580         0.643973         0.980439       -0.034889   \n",
       "3         1.631464         0.833338         0.362822        0.009881   \n",
       "4         0.935878         3.031405         0.522437       -0.107501   \n",
       "\n",
       "   GE.A_23_P412321  GE.A_24_P234921  GE.A_23_P343398  GE.A_23_P69012  \\\n",
       "0        -0.153277         0.720067         0.506888        0.180251   \n",
       "1         0.600389         0.295036         0.026775        0.172103   \n",
       "2         0.061745         0.843857         1.442718       -0.112258   \n",
       "3         1.265838         0.493629         1.040985        0.475731   \n",
       "4         2.631120         0.684364         2.891547        0.325103   \n",
       "\n",
       "   GE.A_23_P407565  GE.A_23_P141367       ...        GE.A_23_P1973  \\\n",
       "0        -0.333733        -0.952690       ...            -3.383960   \n",
       "1         2.876757         0.136076       ...            -2.871910   \n",
       "2         2.528982        -1.191226       ...            -3.146454   \n",
       "3         3.357208        -0.755619       ...            -2.210552   \n",
       "4         4.461593        -1.383289       ...            -2.686294   \n",
       "\n",
       "   GE.A_23_P215419  GE.A_23_P259442  GE.A_32_P66804  GE.A_23_P304991  \\\n",
       "0         0.624622        -2.611288       -2.402020         1.533508   \n",
       "1        -2.161968        -2.294974       -2.906984         0.537812   \n",
       "2        -0.892187        -1.258385       -2.646591         1.311011   \n",
       "3        -0.144747        -1.723304       -2.344496         0.699006   \n",
       "4        -0.246895        -2.940980       -3.539916         0.035941   \n",
       "\n",
       "   GE.A_23_P155351  GE.A_23_P61707  GE.A_23_P111826  GE.A_23_P361405  \\\n",
       "0        -0.180868       -0.317604        -0.037374        -1.033387   \n",
       "1         0.103850        2.397188         0.026909        -1.393335   \n",
       "2         0.092064       -0.633101        -0.050350        -0.375389   \n",
       "3        -0.310269       -0.836779        -0.107827        -0.978695   \n",
       "4        -0.432156        0.460132        -0.091937        -1.055290   \n",
       "\n",
       "   GE.A_23_P57927  \n",
       "0       -0.298882  \n",
       "1        0.569185  \n",
       "2        0.795004  \n",
       "3        1.460305  \n",
       "4        0.350653  \n",
       "\n",
       "[5 rows x 4341 columns]"
      ]
     },
     "execution_count": 3,
     "metadata": {},
     "output_type": "execute_result"
    }
   ],
   "source": [
    "GE.head()"
   ]
  },
  {
   "cell_type": "code",
   "execution_count": 4,
   "metadata": {},
   "outputs": [
    {
     "data": {
      "text/html": [
       "<div>\n",
       "<style scoped>\n",
       "    .dataframe tbody tr th:only-of-type {\n",
       "        vertical-align: middle;\n",
       "    }\n",
       "\n",
       "    .dataframe tbody tr th {\n",
       "        vertical-align: top;\n",
       "    }\n",
       "\n",
       "    .dataframe thead th {\n",
       "        text-align: right;\n",
       "    }\n",
       "</style>\n",
       "<table border=\"1\" class=\"dataframe\">\n",
       "  <thead>\n",
       "    <tr style=\"text-align: right;\">\n",
       "      <th></th>\n",
       "      <th>CGH.1</th>\n",
       "      <th>CGH.3</th>\n",
       "      <th>CGH.5</th>\n",
       "      <th>CGH.6</th>\n",
       "      <th>CGH.7</th>\n",
       "      <th>CGH.8</th>\n",
       "      <th>CGH.9</th>\n",
       "      <th>CGH.10</th>\n",
       "      <th>CGH.11</th>\n",
       "      <th>CGH.12</th>\n",
       "      <th>...</th>\n",
       "      <th>CGH.1386</th>\n",
       "      <th>CGH.1387</th>\n",
       "      <th>CGH.1388</th>\n",
       "      <th>CGH.1389</th>\n",
       "      <th>CGH.1390</th>\n",
       "      <th>CGH.1391</th>\n",
       "      <th>CGH.1392</th>\n",
       "      <th>CGH.1393</th>\n",
       "      <th>CGH.1396</th>\n",
       "      <th>CGH.1398</th>\n",
       "    </tr>\n",
       "  </thead>\n",
       "  <tbody>\n",
       "    <tr>\n",
       "      <th>0</th>\n",
       "      <td>0.016823</td>\n",
       "      <td>0.016823</td>\n",
       "      <td>0.016823</td>\n",
       "      <td>0.016823</td>\n",
       "      <td>0.016823</td>\n",
       "      <td>0.016823</td>\n",
       "      <td>0.016823</td>\n",
       "      <td>0.016823</td>\n",
       "      <td>0.016823</td>\n",
       "      <td>0.016823</td>\n",
       "      <td>...</td>\n",
       "      <td>-0.014979</td>\n",
       "      <td>-0.014979</td>\n",
       "      <td>-0.014979</td>\n",
       "      <td>-0.014979</td>\n",
       "      <td>-0.014979</td>\n",
       "      <td>-0.014979</td>\n",
       "      <td>-0.014979</td>\n",
       "      <td>-0.014979</td>\n",
       "      <td>-0.014979</td>\n",
       "      <td>-0.014979</td>\n",
       "    </tr>\n",
       "    <tr>\n",
       "      <th>1</th>\n",
       "      <td>0.024953</td>\n",
       "      <td>0.024953</td>\n",
       "      <td>0.024953</td>\n",
       "      <td>0.024953</td>\n",
       "      <td>0.024953</td>\n",
       "      <td>0.024953</td>\n",
       "      <td>0.024953</td>\n",
       "      <td>0.024953</td>\n",
       "      <td>0.024953</td>\n",
       "      <td>0.024953</td>\n",
       "      <td>...</td>\n",
       "      <td>-0.175110</td>\n",
       "      <td>-0.175110</td>\n",
       "      <td>-0.175110</td>\n",
       "      <td>-0.175110</td>\n",
       "      <td>-0.175110</td>\n",
       "      <td>-0.175110</td>\n",
       "      <td>-0.175110</td>\n",
       "      <td>-0.175110</td>\n",
       "      <td>-0.175110</td>\n",
       "      <td>-0.175110</td>\n",
       "    </tr>\n",
       "    <tr>\n",
       "      <th>2</th>\n",
       "      <td>-0.362121</td>\n",
       "      <td>-0.362121</td>\n",
       "      <td>-0.362121</td>\n",
       "      <td>-0.362121</td>\n",
       "      <td>-0.362121</td>\n",
       "      <td>-0.362121</td>\n",
       "      <td>-0.362121</td>\n",
       "      <td>-0.362121</td>\n",
       "      <td>-0.362121</td>\n",
       "      <td>-0.362121</td>\n",
       "      <td>...</td>\n",
       "      <td>-0.046933</td>\n",
       "      <td>-0.046933</td>\n",
       "      <td>-0.046933</td>\n",
       "      <td>-0.046933</td>\n",
       "      <td>-0.046933</td>\n",
       "      <td>-0.046933</td>\n",
       "      <td>-0.046933</td>\n",
       "      <td>-0.046933</td>\n",
       "      <td>-0.046933</td>\n",
       "      <td>-0.046933</td>\n",
       "    </tr>\n",
       "    <tr>\n",
       "      <th>3</th>\n",
       "      <td>0.002180</td>\n",
       "      <td>0.002180</td>\n",
       "      <td>0.002180</td>\n",
       "      <td>0.002180</td>\n",
       "      <td>0.002180</td>\n",
       "      <td>0.002180</td>\n",
       "      <td>0.002180</td>\n",
       "      <td>0.002180</td>\n",
       "      <td>0.002180</td>\n",
       "      <td>0.002180</td>\n",
       "      <td>...</td>\n",
       "      <td>0.003226</td>\n",
       "      <td>0.003226</td>\n",
       "      <td>0.003226</td>\n",
       "      <td>0.003226</td>\n",
       "      <td>0.003226</td>\n",
       "      <td>0.003226</td>\n",
       "      <td>0.003226</td>\n",
       "      <td>0.003226</td>\n",
       "      <td>0.003226</td>\n",
       "      <td>0.003226</td>\n",
       "    </tr>\n",
       "    <tr>\n",
       "      <th>4</th>\n",
       "      <td>0.251068</td>\n",
       "      <td>0.251068</td>\n",
       "      <td>0.251068</td>\n",
       "      <td>0.251068</td>\n",
       "      <td>0.251068</td>\n",
       "      <td>0.251068</td>\n",
       "      <td>0.251068</td>\n",
       "      <td>0.251068</td>\n",
       "      <td>0.251068</td>\n",
       "      <td>0.251068</td>\n",
       "      <td>...</td>\n",
       "      <td>0.003202</td>\n",
       "      <td>0.003202</td>\n",
       "      <td>0.003202</td>\n",
       "      <td>0.003202</td>\n",
       "      <td>0.003202</td>\n",
       "      <td>0.003202</td>\n",
       "      <td>0.003202</td>\n",
       "      <td>0.003202</td>\n",
       "      <td>0.008779</td>\n",
       "      <td>0.008779</td>\n",
       "    </tr>\n",
       "  </tbody>\n",
       "</table>\n",
       "<p>5 rows × 1229 columns</p>\n",
       "</div>"
      ],
      "text/plain": [
       "      CGH.1     CGH.3     CGH.5     CGH.6     CGH.7     CGH.8     CGH.9  \\\n",
       "0  0.016823  0.016823  0.016823  0.016823  0.016823  0.016823  0.016823   \n",
       "1  0.024953  0.024953  0.024953  0.024953  0.024953  0.024953  0.024953   \n",
       "2 -0.362121 -0.362121 -0.362121 -0.362121 -0.362121 -0.362121 -0.362121   \n",
       "3  0.002180  0.002180  0.002180  0.002180  0.002180  0.002180  0.002180   \n",
       "4  0.251068  0.251068  0.251068  0.251068  0.251068  0.251068  0.251068   \n",
       "\n",
       "     CGH.10    CGH.11    CGH.12    ...     CGH.1386  CGH.1387  CGH.1388  \\\n",
       "0  0.016823  0.016823  0.016823    ...    -0.014979 -0.014979 -0.014979   \n",
       "1  0.024953  0.024953  0.024953    ...    -0.175110 -0.175110 -0.175110   \n",
       "2 -0.362121 -0.362121 -0.362121    ...    -0.046933 -0.046933 -0.046933   \n",
       "3  0.002180  0.002180  0.002180    ...     0.003226  0.003226  0.003226   \n",
       "4  0.251068  0.251068  0.251068    ...     0.003202  0.003202  0.003202   \n",
       "\n",
       "   CGH.1389  CGH.1390  CGH.1391  CGH.1392  CGH.1393  CGH.1396  CGH.1398  \n",
       "0 -0.014979 -0.014979 -0.014979 -0.014979 -0.014979 -0.014979 -0.014979  \n",
       "1 -0.175110 -0.175110 -0.175110 -0.175110 -0.175110 -0.175110 -0.175110  \n",
       "2 -0.046933 -0.046933 -0.046933 -0.046933 -0.046933 -0.046933 -0.046933  \n",
       "3  0.003226  0.003226  0.003226  0.003226  0.003226  0.003226  0.003226  \n",
       "4  0.003202  0.003202  0.003202  0.003202  0.003202  0.008779  0.008779  \n",
       "\n",
       "[5 rows x 1229 columns]"
      ]
     },
     "execution_count": 4,
     "metadata": {},
     "output_type": "execute_result"
    }
   ],
   "source": [
    "CGH.head()"
   ]
  },
  {
   "cell_type": "markdown",
   "metadata": {},
   "source": [
    "# The Model "
   ]
  },
  {
   "cell_type": "markdown",
   "metadata": {},
   "source": [
    "A first strategy could be to concatenate the data and use a classifier, like logistic regression. We evaluate this model with in a 5-fold crossvalidation scheme (note that a replication set would be necessary to validate these results but this is not the aim of this tutorial)."
   ]
  },
  {
   "cell_type": "code",
   "execution_count": 5,
   "metadata": {},
   "outputs": [],
   "source": [
    "import numpy as np\n",
    "\n",
    "from sklearn.linear_model import LogisticRegression\n",
    "from sklearn.model_selection import cross_val_score"
   ]
  },
  {
   "cell_type": "code",
   "execution_count": 6,
   "metadata": {},
   "outputs": [],
   "source": [
    "X = np.concatenate((GE.values, CGH.values), axis=1)\n",
    "_, label = np.where(y == 1)\n",
    "\n",
    "logreg = LogisticRegression()"
   ]
  },
  {
   "cell_type": "code",
   "execution_count": 7,
   "metadata": {},
   "outputs": [
    {
     "data": {
      "text/plain": [
       "0.7354545454545456"
      ]
     },
     "execution_count": 7,
     "metadata": {},
     "output_type": "execute_result"
    }
   ],
   "source": [
    "cross_val_score(logreg, X, label, cv=5).mean()"
   ]
  },
  {
   "cell_type": "markdown",
   "metadata": {},
   "source": [
    "Let's now see if we can obtain better results by dealing with each block adequately, using RGCCA. We suppose no strong relation between the GE and CGH blocks, and investigate the relation between these two blocks and the location:\n",
    "\n",
    "$$\\max_{x,y,z} \\;\\; x^TX^TYy + z^TZ^TYy$$\n",
    "\n",
    "With the following L1 and RGCCA constraints:\n",
    "- $x \\in \\{ w \\in \\mathbb{R}^p, \\;\\; w^T ( \\tau_{GE} I + (1- \\tau_{GE} ) X^TX) w = 1 \\;\\; and \\;\\; \\Vert w \\Vert_1 \\leq s_{GE} \\} $\n",
    "- $z \\in \\{w \\in \\mathbb{R}^q, \\;\\; w^T ( \\tau_{CGH} I + (1- \\tau_{CGH} ) Z^TZ) w = 1 \\;\\; and \\;\\; \\Vert w \\Vert_1 \\leq s_{CGH}\\}$\n",
    "- $y \\in \\{w \\in \\mathbb{R}^3, \\;\\; \\Vert w \\Vert_2 = 1\\}$\n",
    "\n",
    "Where $\\tau_{GE}, s_{GE}, \\tau_{CGH}, s_{CGH}$ are regularization parameters.\n",
    "\n",
    "Furthermore, we would like the genes to be selected to belong the same biological pathways, to reflect mechanism related to the tumor location, rather than single genes. For this purpose we use a network of gene interactions and add the GraphNet penalty to $x$:\n",
    "\n",
    "$$ P(x) = \\sum_{i,j} A_{ij} (x_i-x_j)^2 = x^TLx $$\n",
    "\n",
    "where $A$ is the adjacency matrix of the graph, and $L$ its laplacian. For further details on the choise of penalties, see my report."
   ]
  },
  {
   "cell_type": "markdown",
   "metadata": {},
   "source": [
    "# The implementation\n",
    "\n",
    "Let's now delve into the implementation of this model. The machinery in Parsimony is somewhat similar to Keras: we build an estimator function and add the covariance objectives to it (note that this is actually the opposite of the covariance, as a loss function to minimize instead of a objective to maximize):"
   ]
  },
  {
   "cell_type": "code",
   "execution_count": 8,
   "metadata": {},
   "outputs": [],
   "source": [
    "import parsimony.functions.multiblock.losses as mb_losses"
   ]
  },
  {
   "cell_type": "code",
   "execution_count": 9,
   "metadata": {},
   "outputs": [],
   "source": [
    "X1 = GE.values\n",
    "X2 = CGH.values\n",
    "n, p = GE.shape\n",
    "_, q = CGH.shape"
   ]
  },
  {
   "cell_type": "code",
   "execution_count": 10,
   "metadata": {},
   "outputs": [],
   "source": [
    "# instantiate the estimator\n",
    "function = mb_losses.CombinedMultiblockFunction([X1,X2,y])\n",
    "\n",
    "#define the covariance loss functions\n",
    "cov_X1_y = mb_losses.LatentVariableCovariance([X1, y], unbiased=True)\n",
    "cov_X2_y = mb_losses.LatentVariableCovariance([X2, y], unbiased=True)\n",
    "\n",
    "#add them to the estimator, the arguments are the indices of the blocks it refers to in the list past when initializing\n",
    "function.add_loss(cov_X1_y, 0, 2)\n",
    "function.add_loss(cov_X2_y, 1, 2)"
   ]
  },
  {
   "cell_type": "markdown",
   "metadata": {},
   "source": [
    "Then we add the constraints and penalties on each block loading. As in Witten 2009, we seek parameters $s_{GE}$ and $s_{CGH}$ between respectively $1/\\sqrt{p}$ and $\\sqrt{p}$, and $1/\\sqrt{q}$ and $\\sqrt{q}$. So we parametrise them by $l_1 *  \\sqrt{p}$ and $l_2 * \\sqrt{q}$."
   ]
  },
  {
   "cell_type": "code",
   "execution_count": 11,
   "metadata": {},
   "outputs": [],
   "source": [
    "import parsimony.functions.penalties as penalties"
   ]
  },
  {
   "cell_type": "code",
   "execution_count": 43,
   "metadata": {},
   "outputs": [],
   "source": [
    "l1 = 0.3\n",
    "l2 = 0.5\n",
    "g2 = 1e-5\n",
    "tau_1 = 1\n",
    "tau_2 = 0.7"
   ]
  },
  {
   "cell_type": "code",
   "execution_count": 44,
   "metadata": {},
   "outputs": [],
   "source": [
    "#Define the constraints\n",
    "constraint1_L1 = penalties.L1(c=l1 * np.sqrt(p))\n",
    "constraint2_L1 = penalties.L1(c=l2 * np.sqrt(q))\n",
    "constraint1_L2 = penalties.RGCCAConstraint(c=1.0, tau=tau_1, X=X1)\n",
    "constraint2_L2 = penalties.RGCCAConstraint(c=1.0, tau=tau_2, X=X2)\n",
    "constraint3 = penalties.L2(c=1.0)\n",
    "\n",
    "#add them to the estimator, giving the indice of the block it refers to\n",
    "function.add_constraint(constraint1_L1, 0)\n",
    "function.add_constraint(constraint1_L2, 0)\n",
    "function.add_constraint(constraint2_L1, 1)\n",
    "function.add_constraint(constraint2_L2, 1)\n",
    "function.add_constraint(constraint3, 2)"
   ]
  },
  {
   "cell_type": "markdown",
   "metadata": {},
   "source": [
    "And finally add the GraphNet penalty, as a penalty with a multiplier g2 (instead of a contraint) and Laplacian L:"
   ]
  },
  {
   "cell_type": "code",
   "execution_count": 45,
   "metadata": {},
   "outputs": [],
   "source": [
    "from scipy.io import mmread\n",
    "from scipy.sparse import csgraph"
   ]
  },
  {
   "cell_type": "code",
   "execution_count": 46,
   "metadata": {},
   "outputs": [],
   "source": [
    "adj = mmread(data_dir + './Kegg_Graph.txt').tocsr()\n",
    "L = csgraph.laplacian(adj)"
   ]
  },
  {
   "cell_type": "code",
   "execution_count": 47,
   "metadata": {},
   "outputs": [],
   "source": [
    "GraphNet = penalties.GraphNet(l=g2, A=L)\n",
    "function.add_penalty(GraphNet, 0)"
   ]
  },
  {
   "cell_type": "markdown",
   "metadata": {},
   "source": [
    "We can now initialize the loadings $x,z,y$ for fitting:"
   ]
  },
  {
   "cell_type": "code",
   "execution_count": 48,
   "metadata": {},
   "outputs": [],
   "source": [
    "import parsimony.utils.weights as start_vectors"
   ]
  },
  {
   "cell_type": "code",
   "execution_count": 49,
   "metadata": {},
   "outputs": [],
   "source": [
    "random_vector = start_vectors.RandomUniformWeights(normalise=False)\n",
    "x = random_vector.get_weights(p)\n",
    "z = random_vector.get_weights(q)\n",
    "t = random_vector.get_weights(y.shape[1])\n",
    "w = [x,z,t]"
   ]
  },
  {
   "cell_type": "markdown",
   "metadata": {},
   "source": [
    "To fit this model to the data, we use a block iteration scheme (similar to block coordinate descent), that is, we iterate over the blocks and minimize the loss function with respect to each loading vector whilst keeping others fixed. For the minimization of each subproblem, we use Fista. This is described more in depth in the paper. All we need to do here is to initialize the algorithm with a few parameters:\n",
    "\n",
    "- eps is the desired convergence precision\n",
    "- max_inner_iter is the maximum number of iteration for Fista in each subproblem minimization. It is in fact not necessary to go all the way to convergence, but only a few iterations are enough to reach global convergence (although this result is empirical)\n",
    "- max_outer_iter is the maximu number of iterations through the blocks\n",
    "- steps is a list of steps to be used for each block in Fista"
   ]
  },
  {
   "cell_type": "code",
   "execution_count": 50,
   "metadata": {},
   "outputs": [],
   "source": [
    "import parsimony.algorithms.multiblock as algorithms"
   ]
  },
  {
   "cell_type": "markdown",
   "metadata": {},
   "source": [
    "The step should be fixed according to the inverse Lipschitz constant of the gradient, however here, in the absence of penalty, the gradients according to $x,z,y$ are constants wrt $x,z,y$ respectively, we thus fix a small step size:"
   ]
  },
  {
   "cell_type": "code",
   "execution_count": 51,
   "metadata": {},
   "outputs": [],
   "source": [
    "steps = [0.05] * 3"
   ]
  },
  {
   "cell_type": "markdown",
   "metadata": {},
   "source": [
    "We then define a few callbacks that we wish to save during the optimization:"
   ]
  },
  {
   "cell_type": "code",
   "execution_count": 52,
   "metadata": {},
   "outputs": [],
   "source": [
    "from parsimony.algorithms.utils import Info\n",
    "info = [Info.num_iter,Info.converged,Info.func_val]"
   ]
  },
  {
   "cell_type": "code",
   "execution_count": 53,
   "metadata": {},
   "outputs": [],
   "source": [
    "algorithm = algorithms.MultiblockFISTA(eps=5e-14, info=info, \n",
    "                                        max_inner_iter=20,\n",
    "                                        max_outer_iter=80,\n",
    "                                        steps=steps)"
   ]
  },
  {
   "cell_type": "markdown",
   "metadata": {},
   "source": [
    "We can now run the algorithm, retrieve the information, and plot the resulting weights:"
   ]
  },
  {
   "cell_type": "code",
   "execution_count": 54,
   "metadata": {},
   "outputs": [],
   "source": [
    "w = algorithm.run(function, w)\n",
    "infos = algorithm.info_get()"
   ]
  },
  {
   "cell_type": "code",
   "execution_count": 55,
   "metadata": {},
   "outputs": [],
   "source": [
    "import matplotlib.pyplot as plt\n",
    "% matplotlib inline"
   ]
  },
  {
   "cell_type": "code",
   "execution_count": 56,
   "metadata": {},
   "outputs": [
    {
     "data": {
      "image/png": "[encoded data removed]",
      "text/plain": [
       "<Figure size 1008x432 with 2 Axes>"
      ]
     },
     "metadata": {},
     "output_type": "display_data"
    }
   ],
   "source": [
    "plt.figure(figsize=(14,6))\n",
    "plt.subplot(121)\n",
    "plt.plot(w[0])\n",
    "plt.title('Loadings GE')\n",
    "plt.subplot(122)\n",
    "plt.plot(w[1])\n",
    "plt.title('Loadings CGH');"
   ]
  },
  {
   "cell_type": "markdown",
   "metadata": {},
   "source": [
    "To solve our initial classification task, we use the score vectors as features in a Linear Discriminant Analysis (LDA):"
   ]
  },
  {
   "cell_type": "code",
   "execution_count": 57,
   "metadata": {},
   "outputs": [],
   "source": [
    "from sklearn.discriminant_analysis import LinearDiscriminantAnalysis"
   ]
  },
  {
   "cell_type": "code",
   "execution_count": 58,
   "metadata": {},
   "outputs": [
    {
     "data": {
      "text/plain": [
       "0.5124242424242424"
      ]
     },
     "execution_count": 58,
     "metadata": {},
     "output_type": "execute_result"
    }
   ],
   "source": [
    "lda = LinearDiscriminantAnalysis()\n",
    "t1 = np.dot(X1, w[0])\n",
    "t2 = np.dot(X2, w[1])\n",
    "predictors = np.concatenate([t1,t2], axis=1)\n",
    "\n",
    "cross_val_score(lda, predictors, label, cv=5).mean()"
   ]
  },
  {
   "cell_type": "markdown",
   "metadata": {},
   "source": [
    "# The full pipeline\n",
    "\n",
    "We however need to standardize the data first. Further, to properly evaluate this model, we need to gridsearch the hyper parameters in a cross-validation scheme. For that purpose, we define the previous model in an object, which inherits the basic properties of scikit-learn transformers and use the corresponding GridSearch function."
   ]
  },
  {
   "cell_type": "code",
   "execution_count": 59,
   "metadata": {},
   "outputs": [],
   "source": [
    "from sklearn.base import BaseEstimator, TransformerMixin\n",
    "from sklearn.preprocessing import LabelBinarizer"
   ]
  },
  {
   "cell_type": "code",
   "execution_count": 60,
   "metadata": {},
   "outputs": [],
   "source": [
    "class GraphNetCCA(BaseEstimator, TransformerMixin):\n",
    "    \"\"\" an object that does all the magic described above, compatible with scikit-learn model selection pipeline\n",
    "    \"\"\"\n",
    "    \n",
    "    def __init__(self, p, q, L, l1=1, l2=1, g2=0.01, init='svd', eps=5e-14, max_block_iter=10,\n",
    "                 max_inner_iter=1000, standardize_dummy=True, tau=[1,1,0], steps='fixed'):\n",
    "\n",
    "        self.l1 = l1\n",
    "        self.l2 = l2\n",
    "        self.g2 = g2\n",
    "        self.L = L\n",
    "        self.init = init\n",
    "        self.steps = steps\n",
    "        self.p = p\n",
    "        self.q = q\n",
    "        self.tau = tau\n",
    "        self.standardize_dummy = standardize_dummy\n",
    "        self.max_block_iter = max_block_iter\n",
    "        self.max_inner_iter = max_inner_iter\n",
    "        self.eps = eps\n",
    "\n",
    "    def fit(self, X, y):\n",
    "        \n",
    "        X1 = X[:,:self.p]\n",
    "        X2 = X[:,self.p:self.p + self.q]\n",
    "        self.g2 = 10 ** (self.g2)\n",
    "        \n",
    "        #compute dummy matrix from label vector\n",
    "        self.lb = LabelBinarizer()\n",
    "        y_ = self.lb.fit_transform(y).astype(np.float64)\n",
    "        if self.standardize_dummy:\n",
    "            y_ -= np.mean(y_, axis=0)\n",
    "            y_ /= np.std(y_, axis=0)\n",
    "    \n",
    "        if self.init == 'svd':\n",
    "            V_1,S_1,U_1 = np.linalg.svd(X1.T,full_matrices=0)\n",
    "            V_2,S_2,U_2 = np.linalg.svd(X2.T,full_matrices=0)\n",
    "            V_3,S_3,U_3 = np.linalg.svd(y_.T,full_matrices=0)\n",
    "            x = V_1.T[0,:].reshape((X1.shape[1],1))\n",
    "            z = V_2.T[0,:].reshape((X2.shape[1],1))\n",
    "            t = V_3.T[0,:].reshape((y_.shape[1],1))\n",
    "        \n",
    "        if self.steps == 'fixed':\n",
    "            steps = [0.005] * 3\n",
    "        \n",
    "        elif self.steps == 'svd' and self.init == 'svd':\n",
    "            steps = [1 / S_1[0], 1 / S_2[0], 1 / S_3[0]]\n",
    "        \n",
    "        elif isinstance(self.steps, list):\n",
    "            if len(self.steps) == 3:\n",
    "                steps = self.steps\n",
    "    \n",
    "        elif self.init == 'random':\n",
    "            random_vector = start_vectors.RandomUniformWeights(normalise=False)\n",
    "            x = random_vector.get_weights(X1.shape[1])\n",
    "            z = random_vector.get_weights(X2.shape[1])\n",
    "            t = random_vector.get_weights(y_.shape[1])\n",
    "    \n",
    "        constraint1_L1 = penalties.L1(c=self.l1 * np.sqrt(self.p))\n",
    "        constraint2_L1 = penalties.L1(c=self.l2 * np.sqrt(self.q))\n",
    "        constraint1_L2 = penalties.RGCCAConstraint(c=1.0, tau=self.tau[0], X=X1)\n",
    "        constraint2_L2 = penalties.RGCCAConstraint(c=1.0, tau=self.tau[1], X=X2)\n",
    "        constraint3 = penalties.L2(c=1.0)\n",
    "        GraphNet = penalties.GraphNet(l=self.g2, A=self.L)\n",
    "    \n",
    "        cov_X1_y = mb_losses.LatentVariableCovariance([X1, y_], unbiased=True)\n",
    "        cov_X2_y = mb_losses.LatentVariableCovariance([X2, y_], unbiased=True)\n",
    "        \n",
    "        function = mb_losses.CombinedMultiblockFunction([X1,X2,y_])\n",
    "        function.add_loss(cov_X1_y, 0, 2)\n",
    "        function.add_loss(cov_X2_y, 1, 2)\n",
    "        function.add_constraint(constraint1_L1, 0)\n",
    "        function.add_constraint(constraint1_L2, 0)\n",
    "        function.add_constraint(constraint2_L1, 1)\n",
    "        function.add_constraint(constraint2_L2, 1)\n",
    "        function.add_constraint(constraint3, 2)\n",
    "        function.add_penalty(GraphNet, 0)\n",
    "        info = [Info.num_iter,Info.converged,Info.func_val]\n",
    "        w = [x, z, t]\n",
    "        f = [function.f(w)]\n",
    "        \n",
    "        self.algorithm = algorithms.MultiblockFISTA(eps=self.eps, info=info, \n",
    "                                              max_inner_iter=self.max_inner_iter,\n",
    "                                              max_outer_iter=self.max_block_iter,\n",
    "                                              steps=steps)\n",
    "                                              \n",
    "        self.w = self.algorithm.run(function, w)\n",
    "        self.infos = self.algorithm.info_get()\n",
    "        f += [-g for g in self.infos['func_val']]\n",
    "        self.fval = np.array(f).ravel()\n",
    "        \n",
    "        return self\n",
    "\n",
    "    def transform(self,X, y=None):\n",
    "        \n",
    "        X1 = X[:,:self.p]\n",
    "        X2 = X[:,self.p:self.p + self.q]\n",
    "        t1 = np.dot(X1, self.w[0])\n",
    "        t2 = np.dot(X2, self.w[1])\n",
    "\n",
    "        return np.concatenate([t1, t2], axis=1)"
   ]
  },
  {
   "cell_type": "markdown",
   "metadata": {},
   "source": [
    "We can now use this estimator in a pipeline and test many parameters in a 5-fold cross-validation scheme."
   ]
  },
  {
   "cell_type": "code",
   "execution_count": 61,
   "metadata": {},
   "outputs": [],
   "source": [
    "from scipy.stats import uniform, randint\n",
    "from sklearn.preprocessing import StandardScaler\n",
    "from sklearn.pipeline import make_pipeline\n",
    "from sklearn.model_selection import RandomizedSearchCV\n",
    "from sklearn.discriminant_analysis import LinearDiscriminantAnalysis"
   ]
  },
  {
   "cell_type": "code",
   "execution_count": 62,
   "metadata": {},
   "outputs": [
    {
     "name": "stdout",
     "output_type": "stream",
     "text": [
      "Fitting 5 folds for each of 1 candidates, totalling 5 fits\n",
      "[CV] graphnetcca__g2=-2, graphnetcca__l1=0.4270697396244363, graphnetcca__l2=0.27616299834709224 \n",
      "[CV] graphnetcca__g2=-2, graphnetcca__l1=0.4270697396244363, graphnetcca__l2=0.27616299834709224 \n",
      "[CV] graphnetcca__g2=-2, graphnetcca__l1=0.4270697396244363, graphnetcca__l2=0.27616299834709224 \n",
      "[CV] graphnetcca__g2=-2, graphnetcca__l1=0.4270697396244363, graphnetcca__l2=0.27616299834709224 \n",
      "[CV] graphnetcca__g2=-2, graphnetcca__l1=0.4270697396244363, graphnetcca__l2=0.27616299834709224 \n"
     ]
    },
    {
     "ename": "KeyboardInterrupt",
     "evalue": "",
     "output_type": "error",
     "traceback": [
      "\u001b[0;31m---------------------------------------------------------------------------\u001b[0m",
      "\u001b[0;31mKeyboardInterrupt\u001b[0m                         Traceback (most recent call last)",
      "\u001b[0;32m<ipython-input-62-8ac29fc3e955>\u001b[0m in \u001b[0;36m<module>\u001b[0;34m()\u001b[0m\n\u001b[1;32m     16\u001b[0m                                n_jobs=3, return_train_score=True)\n\u001b[1;32m     17\u001b[0m \u001b[0;34m\u001b[0m\u001b[0m\n\u001b[0;32m---> 18\u001b[0;31m \u001b[0mrandom_search\u001b[0m\u001b[0;34m.\u001b[0m\u001b[0mfit\u001b[0m\u001b[0;34m(\u001b[0m\u001b[0mX\u001b[0m\u001b[0;34m,\u001b[0m \u001b[0mlabel\u001b[0m\u001b[0;34m)\u001b[0m\u001b[0;34m\u001b[0m\u001b[0m\n\u001b[0m\u001b[1;32m     19\u001b[0m \u001b[0;34m\u001b[0m\u001b[0m\n\u001b[1;32m     20\u001b[0m \u001b[0mresults\u001b[0m \u001b[0;34m=\u001b[0m \u001b[0mpd\u001b[0m\u001b[0;34m.\u001b[0m\u001b[0mDataFrame\u001b[0m\u001b[0;34m(\u001b[0m\u001b[0mrandom_search\u001b[0m\u001b[0;34m.\u001b[0m\u001b[0mcv_results_\u001b[0m\u001b[0;34m)\u001b[0m\u001b[0;34m\u001b[0m\u001b[0m\n",
      "\u001b[0;32m/home/ng255707/python-environments/env/local/lib/python2.7/site-packages/sklearn/model_selection/_search.pyc\u001b[0m in \u001b[0;36mfit\u001b[0;34m(self, X, y, groups, **fit_params)\u001b[0m\n\u001b[1;32m    637\u001b[0m                                   error_score=self.error_score)\n\u001b[1;32m    638\u001b[0m           for parameters, (train, test) in product(candidate_params,\n\u001b[0;32m--> 639\u001b[0;31m                                                    cv.split(X, y, groups)))\n\u001b[0m\u001b[1;32m    640\u001b[0m \u001b[0;34m\u001b[0m\u001b[0m\n\u001b[1;32m    641\u001b[0m         \u001b[0;31m# if one choose to see train score, \"out\" will contain train score info\u001b[0m\u001b[0;34m\u001b[0m\u001b[0;34m\u001b[0m\u001b[0m\n",
      "\u001b[0;32m/home/ng255707/python-environments/env/local/lib/python2.7/site-packages/sklearn/externals/joblib/parallel.pyc\u001b[0m in \u001b[0;36m__call__\u001b[0;34m(self, iterable)\u001b[0m\n\u001b[1;32m    787\u001b[0m                 \u001b[0;31m# consumption.\u001b[0m\u001b[0;34m\u001b[0m\u001b[0;34m\u001b[0m\u001b[0m\n\u001b[1;32m    788\u001b[0m                 \u001b[0mself\u001b[0m\u001b[0;34m.\u001b[0m\u001b[0m_iterating\u001b[0m \u001b[0;34m=\u001b[0m \u001b[0mFalse\u001b[0m\u001b[0;34m\u001b[0m\u001b[0m\n\u001b[0;32m--> 789\u001b[0;31m             \u001b[0mself\u001b[0m\u001b[0;34m.\u001b[0m\u001b[0mretrieve\u001b[0m\u001b[0;34m(\u001b[0m\u001b[0;34m)\u001b[0m\u001b[0;34m\u001b[0m\u001b[0m\n\u001b[0m\u001b[1;32m    790\u001b[0m             \u001b[0;31m# Make sure that we get a last message telling us we are done\u001b[0m\u001b[0;34m\u001b[0m\u001b[0;34m\u001b[0m\u001b[0m\n\u001b[1;32m    791\u001b[0m             \u001b[0melapsed_time\u001b[0m \u001b[0;34m=\u001b[0m \u001b[0mtime\u001b[0m\u001b[0;34m.\u001b[0m\u001b[0mtime\u001b[0m\u001b[0;34m(\u001b[0m\u001b[0;34m)\u001b[0m \u001b[0;34m-\u001b[0m \u001b[0mself\u001b[0m\u001b[0;34m.\u001b[0m\u001b[0m_start_time\u001b[0m\u001b[0;34m\u001b[0m\u001b[0m\n",
      "\u001b[0;32m/home/ng255707/python-environments/env/local/lib/python2.7/site-packages/sklearn/externals/joblib/parallel.pyc\u001b[0m in \u001b[0;36mretrieve\u001b[0;34m(self)\u001b[0m\n\u001b[1;32m    697\u001b[0m             \u001b[0;32mtry\u001b[0m\u001b[0;34m:\u001b[0m\u001b[0;34m\u001b[0m\u001b[0m\n\u001b[1;32m    698\u001b[0m                 \u001b[0;32mif\u001b[0m \u001b[0mgetattr\u001b[0m\u001b[0;34m(\u001b[0m\u001b[0mself\u001b[0m\u001b[0;34m.\u001b[0m\u001b[0m_backend\u001b[0m\u001b[0;34m,\u001b[0m \u001b[0;34m'supports_timeout'\u001b[0m\u001b[0;34m,\u001b[0m \u001b[0mFalse\u001b[0m\u001b[0;34m)\u001b[0m\u001b[0;34m:\u001b[0m\u001b[0;34m\u001b[0m\u001b[0m\n\u001b[0;32m--> 699\u001b[0;31m                     \u001b[0mself\u001b[0m\u001b[0;34m.\u001b[0m\u001b[0m_output\u001b[0m\u001b[0;34m.\u001b[0m\u001b[0mextend\u001b[0m\u001b[0;34m(\u001b[0m\u001b[0mjob\u001b[0m\u001b[0;34m.\u001b[0m\u001b[0mget\u001b[0m\u001b[0;34m(\u001b[0m\u001b[0mtimeout\u001b[0m\u001b[0;34m=\u001b[0m\u001b[0mself\u001b[0m\u001b[0;34m.\u001b[0m\u001b[0mtimeout\u001b[0m\u001b[0;34m)\u001b[0m\u001b[0;34m)\u001b[0m\u001b[0;34m\u001b[0m\u001b[0m\n\u001b[0m\u001b[1;32m    700\u001b[0m                 \u001b[0;32melse\u001b[0m\u001b[0;34m:\u001b[0m\u001b[0;34m\u001b[0m\u001b[0m\n\u001b[1;32m    701\u001b[0m                     \u001b[0mself\u001b[0m\u001b[0;34m.\u001b[0m\u001b[0m_output\u001b[0m\u001b[0;34m.\u001b[0m\u001b[0mextend\u001b[0m\u001b[0;34m(\u001b[0m\u001b[0mjob\u001b[0m\u001b[0;34m.\u001b[0m\u001b[0mget\u001b[0m\u001b[0;34m(\u001b[0m\u001b[0;34m)\u001b[0m\u001b[0;34m)\u001b[0m\u001b[0;34m\u001b[0m\u001b[0m\n",
      "\u001b[0;32m/usr/lib/python2.7/multiprocessing/pool.pyc\u001b[0m in \u001b[0;36mget\u001b[0;34m(self, timeout)\u001b[0m\n\u001b[1;32m    559\u001b[0m \u001b[0;34m\u001b[0m\u001b[0m\n\u001b[1;32m    560\u001b[0m     \u001b[0;32mdef\u001b[0m \u001b[0mget\u001b[0m\u001b[0;34m(\u001b[0m\u001b[0mself\u001b[0m\u001b[0;34m,\u001b[0m \u001b[0mtimeout\u001b[0m\u001b[0;34m=\u001b[0m\u001b[0mNone\u001b[0m\u001b[0;34m)\u001b[0m\u001b[0;34m:\u001b[0m\u001b[0;34m\u001b[0m\u001b[0m\n\u001b[0;32m--> 561\u001b[0;31m         \u001b[0mself\u001b[0m\u001b[0;34m.\u001b[0m\u001b[0mwait\u001b[0m\u001b[0;34m(\u001b[0m\u001b[0mtimeout\u001b[0m\u001b[0;34m)\u001b[0m\u001b[0;34m\u001b[0m\u001b[0m\n\u001b[0m\u001b[1;32m    562\u001b[0m         \u001b[0;32mif\u001b[0m \u001b[0;32mnot\u001b[0m \u001b[0mself\u001b[0m\u001b[0;34m.\u001b[0m\u001b[0m_ready\u001b[0m\u001b[0;34m:\u001b[0m\u001b[0;34m\u001b[0m\u001b[0m\n\u001b[1;32m    563\u001b[0m             \u001b[0;32mraise\u001b[0m \u001b[0mTimeoutError\u001b[0m\u001b[0;34m\u001b[0m\u001b[0m\n",
      "\u001b[0;32m/usr/lib/python2.7/multiprocessing/pool.pyc\u001b[0m in \u001b[0;36mwait\u001b[0;34m(self, timeout)\u001b[0m\n\u001b[1;32m    554\u001b[0m         \u001b[0;32mtry\u001b[0m\u001b[0;34m:\u001b[0m\u001b[0;34m\u001b[0m\u001b[0m\n\u001b[1;32m    555\u001b[0m             \u001b[0;32mif\u001b[0m \u001b[0;32mnot\u001b[0m \u001b[0mself\u001b[0m\u001b[0;34m.\u001b[0m\u001b[0m_ready\u001b[0m\u001b[0;34m:\u001b[0m\u001b[0;34m\u001b[0m\u001b[0m\n\u001b[0;32m--> 556\u001b[0;31m                 \u001b[0mself\u001b[0m\u001b[0;34m.\u001b[0m\u001b[0m_cond\u001b[0m\u001b[0;34m.\u001b[0m\u001b[0mwait\u001b[0m\u001b[0;34m(\u001b[0m\u001b[0mtimeout\u001b[0m\u001b[0;34m)\u001b[0m\u001b[0;34m\u001b[0m\u001b[0m\n\u001b[0m\u001b[1;32m    557\u001b[0m         \u001b[0;32mfinally\u001b[0m\u001b[0;34m:\u001b[0m\u001b[0;34m\u001b[0m\u001b[0m\n\u001b[1;32m    558\u001b[0m             \u001b[0mself\u001b[0m\u001b[0;34m.\u001b[0m\u001b[0m_cond\u001b[0m\u001b[0;34m.\u001b[0m\u001b[0mrelease\u001b[0m\u001b[0;34m(\u001b[0m\u001b[0;34m)\u001b[0m\u001b[0;34m\u001b[0m\u001b[0m\n",
      "\u001b[0;32m/usr/lib/python2.7/threading.pyc\u001b[0m in \u001b[0;36mwait\u001b[0;34m(self, timeout)\u001b[0m\n\u001b[1;32m    338\u001b[0m         \u001b[0;32mtry\u001b[0m\u001b[0;34m:\u001b[0m    \u001b[0;31m# restore state no matter what (e.g., KeyboardInterrupt)\u001b[0m\u001b[0;34m\u001b[0m\u001b[0m\n\u001b[1;32m    339\u001b[0m             \u001b[0;32mif\u001b[0m \u001b[0mtimeout\u001b[0m \u001b[0;32mis\u001b[0m \u001b[0mNone\u001b[0m\u001b[0;34m:\u001b[0m\u001b[0;34m\u001b[0m\u001b[0m\n\u001b[0;32m--> 340\u001b[0;31m                 \u001b[0mwaiter\u001b[0m\u001b[0;34m.\u001b[0m\u001b[0macquire\u001b[0m\u001b[0;34m(\u001b[0m\u001b[0;34m)\u001b[0m\u001b[0;34m\u001b[0m\u001b[0m\n\u001b[0m\u001b[1;32m    341\u001b[0m                 \u001b[0;32mif\u001b[0m \u001b[0m__debug__\u001b[0m\u001b[0;34m:\u001b[0m\u001b[0;34m\u001b[0m\u001b[0m\n\u001b[1;32m    342\u001b[0m                     \u001b[0mself\u001b[0m\u001b[0;34m.\u001b[0m\u001b[0m_note\u001b[0m\u001b[0;34m(\u001b[0m\u001b[0;34m\"%s.wait(): got it\"\u001b[0m\u001b[0;34m,\u001b[0m \u001b[0mself\u001b[0m\u001b[0;34m)\u001b[0m\u001b[0;34m\u001b[0m\u001b[0m\n",
      "\u001b[0;31mKeyboardInterrupt\u001b[0m: "
     ]
    }
   ],
   "source": [
    "psq = 1 / np.sqrt(p)\n",
    "qsq = 1 / np.sqrt(q)\n",
    "\n",
    "param_dist = {'graphnetcca__l1': uniform(loc=psq ,scale=0.8-psq),\n",
    "              'graphnetcca__l2': uniform(loc=qsq,scale=0.8-qsq),\n",
    "              'graphnetcca__g2': randint(low=-8, high=-1)}\n",
    "\n",
    "pipeline = make_pipeline(StandardScaler(),\n",
    "                         GraphNetCCA(p=p, q=q, L=L, tau=[1,0.8], max_block_iter=100,\n",
    "                                     max_inner_iter=20, steps='svd'),\n",
    "                         LinearDiscriminantAnalysis())\n",
    "\n",
    "n_iter_search = 1\n",
    "random_search = RandomizedSearchCV(pipeline, param_distributions=param_dist,\n",
    "                               n_iter=n_iter_search, verbose=2, cv=5,\n",
    "                               n_jobs=3, return_train_score=True)\n",
    "\n",
    "random_search.fit(X, label)\n",
    "\n",
    "results = pd.DataFrame(random_search.cv_results_)\n",
    "results.to_csv(data_dir + 'Glioma_Search.csv')\n",
    "\n",
    "np.save(data_dir + 'best_estimator_Glioma_Search', random_search.best_estimator_)"
   ]
  },
  {
   "cell_type": "code",
   "execution_count": null,
   "metadata": {},
   "outputs": [],
   "source": []
  }
 ],
 "metadata": {
  "kernelspec": {
   "display_name": "Python 2",
   "language": "python",
   "name": "python2"
  },
  "language_info": {
   "codemirror_mode": {
    "name": "ipython",
    "version": 2
   },
   "file_extension": ".py",
   "mimetype": "text/x-python",
   "name": "python",
   "nbconvert_exporter": "python",
   "pygments_lexer": "ipython2",
   "version": "2.7.12"
  }
 },
 "nbformat": 4,
 "nbformat_minor": 2
}
